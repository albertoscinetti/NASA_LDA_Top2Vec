{
 "cells": [
  {
   "cell_type": "markdown",
   "id": "2d33df68-a692-4ad3-ad15-5b34f52c7fbe",
   "metadata": {},
   "source": [
    "### Data Processing - Final Project\n",
    "### Alberto Scinetti (13115316)\n",
    "\n",
    "# Public Opinion on NASA's Climate Posts: Vader Sentiment Analysis and Topic Modeling"
   ]
  },
  {
   "cell_type": "markdown",
   "id": "bed06c77-9a50-4376-a7bb-8826806b1b6d",
   "metadata": {},
   "source": [
    "This notebook will analysis Public Opinion on NASA's Climate Posts shared on Facebook's comments by users.  An already existing data set of comments will be used for analysis; the dataset can be found at https://www.kaggle.com/datasets/kanchana1990/public-opinion-on-nasas-climate-posts-fb-data. \n",
    "\n",
    "The comments, collected from various posts between 2020 and 2023, reflect a wide spectrum of public opinions and sentiments regarding climate change and NASA's related initiatives. \n",
    "\n",
    "*Research Question:* \n",
    "How is the public opinion oriented towards climate related posts share by NASA on Facebook?\n",
    "\n",
    "*Sub Questions:* \n",
    "- What is the  public sentiment towards NASA's climate-related posts on Facebook? \n",
    "- What are the main topics being discussed within the analysed public? \n",
    "\n",
    "*Analysis:*\n",
    "- Vader Sentiment analysis in order to identify public sentiment\n",
    "- Topic Modeling using LDA (Latent Dirichlet Allocation) approach and Top2Vec library"
   ]
  },
  {
   "cell_type": "code",
   "execution_count": 2,
   "id": "8b18f030-9359-45a2-89fb-104a874c836f",
   "metadata": {},
   "outputs": [
    {
     "name": "stderr",
     "output_type": "stream",
     "text": [
      "/var/folders/cs/84dzr5m11gq8zhw0h8vx96k80000gn/T/ipykernel_82738/3351222373.py:2: DeprecationWarning: \n",
      "Pyarrow will become a required dependency of pandas in the next major release of pandas (pandas 3.0),\n",
      "(to allow more performant data types, such as the Arrow string type, and better interoperability with other libraries)\n",
      "but was not found to be installed on your system.\n",
      "If this would cause problems for you,\n",
      "please provide us feedback at https://github.com/pandas-dev/pandas/issues/54466\n",
      "        \n",
      "  import pandas as pd\n",
      "[nltk_data] Downloading package averaged_perceptron_tagger to\n",
      "[nltk_data]     /Users/albertoscinetti/nltk_data...\n",
      "[nltk_data]   Package averaged_perceptron_tagger is already up-to-\n",
      "[nltk_data]       date!\n",
      "[nltk_data] Downloading package maxent_ne_chunker to\n",
      "[nltk_data]     /Users/albertoscinetti/nltk_data...\n",
      "[nltk_data]   Package maxent_ne_chunker is already up-to-date!\n",
      "[nltk_data] Downloading package words to\n",
      "[nltk_data]     /Users/albertoscinetti/nltk_data...\n",
      "[nltk_data]   Package words is already up-to-date!\n",
      "[nltk_data] Downloading package vader_lexicon to\n",
      "[nltk_data]     /Users/albertoscinetti/nltk_data...\n",
      "[nltk_data]   Package vader_lexicon is already up-to-date!\n",
      "[nltk_data] Downloading package wordnet to\n",
      "[nltk_data]     /Users/albertoscinetti/nltk_data...\n",
      "[nltk_data]   Package wordnet is already up-to-date!\n",
      "[nltk_data] Downloading package stopwords to\n",
      "[nltk_data]     /Users/albertoscinetti/nltk_data...\n",
      "[nltk_data]   Package stopwords is already up-to-date!\n"
     ]
    }
   ],
   "source": [
    "# import\n",
    "import pandas as pd \n",
    "import numpy as np \n",
    "import matplotlib.pyplot as plt \n",
    "import seaborn as sns \n",
    "import re\n",
    "plt.style.use(\"ggplot\")\n",
    "import nltk\n",
    "import string\n",
    "nltk.download('averaged_perceptron_tagger')\n",
    "nltk.download('maxent_ne_chunker')\n",
    "nltk.download('words')\n",
    "nltk.download('vader_lexicon')\n",
    "nltk.download('wordnet')\n",
    "nltk.download('stopwords')\n",
    "from nltk.sentiment import SentimentIntensityAnalyzer\n",
    "from tqdm.notebook import tqdm\n",
    "from nltk.stem.wordnet import WordNetLemmatizer\n",
    "import gensim\n",
    "from gensim import corpora"
   ]
  },
  {
   "cell_type": "markdown",
   "id": "9f5c52ed-10ca-44dd-9fcd-95d34aa62a89",
   "metadata": {},
   "source": [
    "# Part 1: Sentiment Analysis"
   ]
  },
  {
   "cell_type": "markdown",
   "id": "abb66054-284a-4bef-a8ec-2c47ea9511ea",
   "metadata": {},
   "source": [
    "In the first part of the analysis, the data will be imported, pre-processed, and a VADER sentiment analysis will be performed in order to identify public sentiment within NASA's climate-related posts shared on Facebook between 2020 and 2023"
   ]
  },
  {
   "cell_type": "code",
   "execution_count": 3,
   "id": "20ae0f10-6892-41f5-847a-735784bf8259",
   "metadata": {},
   "outputs": [
    {
     "data": {
      "text/html": [
       "<div>\n",
       "<style scoped>\n",
       "    .dataframe tbody tr th:only-of-type {\n",
       "        vertical-align: middle;\n",
       "    }\n",
       "\n",
       "    .dataframe tbody tr th {\n",
       "        vertical-align: top;\n",
       "    }\n",
       "\n",
       "    .dataframe thead th {\n",
       "        text-align: right;\n",
       "    }\n",
       "</style>\n",
       "<table border=\"1\" class=\"dataframe\">\n",
       "  <thead>\n",
       "    <tr style=\"text-align: right;\">\n",
       "      <th></th>\n",
       "      <th>date</th>\n",
       "      <th>likesCount</th>\n",
       "      <th>profileName</th>\n",
       "      <th>commentsCount</th>\n",
       "      <th>text</th>\n",
       "    </tr>\n",
       "  </thead>\n",
       "  <tbody>\n",
       "    <tr>\n",
       "      <th>0</th>\n",
       "      <td>2022-09-07T17:12:32.000Z</td>\n",
       "      <td>2</td>\n",
       "      <td>4dca617d86b3fdce80ba7e81fb16e048c9cd9798cdfd6d...</td>\n",
       "      <td>NaN</td>\n",
       "      <td>Neat comparison I have not heard it before.\\n ...</td>\n",
       "    </tr>\n",
       "    <tr>\n",
       "      <th>1</th>\n",
       "      <td>2022-09-08T14:51:13.000Z</td>\n",
       "      <td>0</td>\n",
       "      <td>518ab97f2d115ba5b6f03b2fba2ef2b120540c9681288b...</td>\n",
       "      <td>NaN</td>\n",
       "      <td>An excellent way to visualise the invisible! T...</td>\n",
       "    </tr>\n",
       "    <tr>\n",
       "      <th>2</th>\n",
       "      <td>2022-09-07T17:19:41.000Z</td>\n",
       "      <td>1</td>\n",
       "      <td>d82e8e24eb633fd625b0aef9b3cb625cfb044ceb8483e1...</td>\n",
       "      <td>3.0</td>\n",
       "      <td>Does the CO2/ghg in the troposphere affect the...</td>\n",
       "    </tr>\n",
       "    <tr>\n",
       "      <th>3</th>\n",
       "      <td>2022-09-08T00:51:30.000Z</td>\n",
       "      <td>4</td>\n",
       "      <td>37a509fa0b5177a2233c7e2d0e2b2d6916695fa9fba3f2...</td>\n",
       "      <td>NaN</td>\n",
       "      <td>excellent post! I defo feel the difference - o...</td>\n",
       "    </tr>\n",
       "    <tr>\n",
       "      <th>4</th>\n",
       "      <td>2022-09-07T19:06:20.000Z</td>\n",
       "      <td>16</td>\n",
       "      <td>e54fbbd42a729af9d04d9a5cc1f9bbfe8081a31c219ecb...</td>\n",
       "      <td>26.0</td>\n",
       "      <td>Yes, and carbon dioxide does not harm the Eart...</td>\n",
       "    </tr>\n",
       "  </tbody>\n",
       "</table>\n",
       "</div>"
      ],
      "text/plain": [
       "                       date  likesCount  \\\n",
       "0  2022-09-07T17:12:32.000Z           2   \n",
       "1  2022-09-08T14:51:13.000Z           0   \n",
       "2  2022-09-07T17:19:41.000Z           1   \n",
       "3  2022-09-08T00:51:30.000Z           4   \n",
       "4  2022-09-07T19:06:20.000Z          16   \n",
       "\n",
       "                                         profileName  commentsCount  \\\n",
       "0  4dca617d86b3fdce80ba7e81fb16e048c9cd9798cdfd6d...            NaN   \n",
       "1  518ab97f2d115ba5b6f03b2fba2ef2b120540c9681288b...            NaN   \n",
       "2  d82e8e24eb633fd625b0aef9b3cb625cfb044ceb8483e1...            3.0   \n",
       "3  37a509fa0b5177a2233c7e2d0e2b2d6916695fa9fba3f2...            NaN   \n",
       "4  e54fbbd42a729af9d04d9a5cc1f9bbfe8081a31c219ecb...           26.0   \n",
       "\n",
       "                                                text  \n",
       "0  Neat comparison I have not heard it before.\\n ...  \n",
       "1  An excellent way to visualise the invisible! T...  \n",
       "2  Does the CO2/ghg in the troposphere affect the...  \n",
       "3  excellent post! I defo feel the difference - o...  \n",
       "4  Yes, and carbon dioxide does not harm the Eart...  "
      ]
     },
     "execution_count": 3,
     "metadata": {},
     "output_type": "execute_result"
    }
   ],
   "source": [
    "# read and see the data\n",
    "df = pd.read_csv(\"data/climate_nasa.csv\")\n",
    "df.head()"
   ]
  },
  {
   "cell_type": "code",
   "execution_count": 4,
   "id": "0f1ff54d-8302-4533-b3a7-17473d157b68",
   "metadata": {},
   "outputs": [],
   "source": [
    "# pre process the data \n",
    "\n",
    "df['text'] = df['text'].astype(str) #convert col to str   \n",
    "\n",
    "def preprocess_text(text):\n",
    "    \"\"\"\n",
    "    This functions takes text as input and removeds digits, converts to lowercase and strips punctuation \n",
    "    \"\"\"\n",
    "    text = re.sub(r'\\d+', '', text)\n",
    "    text = text.lower()\n",
    "    text = text.translate(str.maketrans('', '', string.punctuation))\n",
    "    return text\n",
    "\n",
    "# apply \n",
    "df['text'] = df['text'].apply(preprocess_text)"
   ]
  },
  {
   "cell_type": "code",
   "execution_count": 5,
   "id": "0ca3a079-88c2-4c88-8beb-9ef1ff859291",
   "metadata": {},
   "outputs": [],
   "source": [
    "# define the analyser object \n",
    "sia = SentimentIntensityAnalyzer()"
   ]
  },
  {
   "cell_type": "code",
   "execution_count": 6,
   "id": "fc687e49-ecf2-48dc-8671-10dc6a79fa30",
   "metadata": {},
   "outputs": [
    {
     "name": "stdout",
     "output_type": "stream",
     "text": [
      "Example text:\n",
      "thats an excellent way to illustrate  ppm\n",
      "\n",
      "\n",
      "Polarity Scores:\n"
     ]
    },
    {
     "data": {
      "text/plain": [
       "{'neg': 0.0, 'neu': 0.619, 'pos': 0.381, 'compound': 0.5719}"
      ]
     },
     "execution_count": 6,
     "metadata": {},
     "output_type": "execute_result"
    }
   ],
   "source": [
    "# try an example \n",
    "example = df['text'][15]\n",
    "print(\"Example text:\")\n",
    "print(example)\n",
    "print(\"\\n\")\n",
    "print(\"Polarity Scores:\")\n",
    "sia.polarity_scores(example)"
   ]
  },
  {
   "cell_type": "code",
   "execution_count": 7,
   "id": "54a3d24a-aa72-4690-80c7-f63360d9b32e",
   "metadata": {},
   "outputs": [
    {
     "data": {
      "application/vnd.jupyter.widget-view+json": {
       "model_id": "a1c0d96de0e84455ac8b5141c127a792",
       "version_major": 2,
       "version_minor": 0
      },
      "text/plain": [
       "  0%|          | 0/522 [00:00<?, ?it/s]"
      ]
     },
     "metadata": {},
     "output_type": "display_data"
    }
   ],
   "source": [
    "# run the polarity score on the entire dataset and store values into a dictionary \n",
    "res = {}\n",
    "for i, row in tqdm(df.iterrows(), total=len(df)): \n",
    "    text = row[\"text\"]\n",
    "    myid = row[\"profileName\"]\n",
    "    res[myid] = sia.polarity_scores(text)"
   ]
  },
  {
   "cell_type": "code",
   "execution_count": 8,
   "id": "b4c641c2-5b9f-489b-b644-d532aa36a560",
   "metadata": {},
   "outputs": [],
   "source": [
    "# convert to a dataframe and merge with original df to add the polarity scores \n",
    "vaders = pd.DataFrame(res).T \n",
    "vaders = vaders.reset_index().rename(columns={\"index\": \"profileName\"}) \n",
    "vaders = vaders.merge(df, how=\"left\")"
   ]
  },
  {
   "cell_type": "code",
   "execution_count": 10,
   "id": "54e2b86e-613d-46f3-ad35-2576578fad48",
   "metadata": {},
   "outputs": [
    {
     "data": {
      "text/html": [
       "<div>\n",
       "<style scoped>\n",
       "    .dataframe tbody tr th:only-of-type {\n",
       "        vertical-align: middle;\n",
       "    }\n",
       "\n",
       "    .dataframe tbody tr th {\n",
       "        vertical-align: top;\n",
       "    }\n",
       "\n",
       "    .dataframe thead th {\n",
       "        text-align: right;\n",
       "    }\n",
       "</style>\n",
       "<table border=\"1\" class=\"dataframe\">\n",
       "  <thead>\n",
       "    <tr style=\"text-align: right;\">\n",
       "      <th></th>\n",
       "      <th>profileName</th>\n",
       "      <th>neg</th>\n",
       "      <th>neu</th>\n",
       "      <th>pos</th>\n",
       "      <th>compound</th>\n",
       "      <th>date</th>\n",
       "      <th>likesCount</th>\n",
       "      <th>commentsCount</th>\n",
       "      <th>text</th>\n",
       "    </tr>\n",
       "  </thead>\n",
       "  <tbody>\n",
       "    <tr>\n",
       "      <th>0</th>\n",
       "      <td>4dca617d86b3fdce80ba7e81fb16e048c9cd9798cdfd6d...</td>\n",
       "      <td>0.045</td>\n",
       "      <td>0.718</td>\n",
       "      <td>0.237</td>\n",
       "      <td>0.7702</td>\n",
       "      <td>2022-09-07T17:12:32.000Z</td>\n",
       "      <td>2</td>\n",
       "      <td>NaN</td>\n",
       "      <td>neat comparison i have not heard it before\\n i...</td>\n",
       "    </tr>\n",
       "    <tr>\n",
       "      <th>1</th>\n",
       "      <td>518ab97f2d115ba5b6f03b2fba2ef2b120540c9681288b...</td>\n",
       "      <td>0.000</td>\n",
       "      <td>0.476</td>\n",
       "      <td>0.524</td>\n",
       "      <td>0.7650</td>\n",
       "      <td>2022-09-08T14:51:13.000Z</td>\n",
       "      <td>0</td>\n",
       "      <td>NaN</td>\n",
       "      <td>an excellent way to visualise the invisible th...</td>\n",
       "    </tr>\n",
       "    <tr>\n",
       "      <th>2</th>\n",
       "      <td>d82e8e24eb633fd625b0aef9b3cb625cfb044ceb8483e1...</td>\n",
       "      <td>0.000</td>\n",
       "      <td>0.872</td>\n",
       "      <td>0.128</td>\n",
       "      <td>0.2960</td>\n",
       "      <td>2022-09-07T17:19:41.000Z</td>\n",
       "      <td>1</td>\n",
       "      <td>3.0</td>\n",
       "      <td>does the coghg in the troposphere affect the s...</td>\n",
       "    </tr>\n",
       "    <tr>\n",
       "      <th>3</th>\n",
       "      <td>37a509fa0b5177a2233c7e2d0e2b2d6916695fa9fba3f2...</td>\n",
       "      <td>0.157</td>\n",
       "      <td>0.667</td>\n",
       "      <td>0.176</td>\n",
       "      <td>0.1027</td>\n",
       "      <td>2022-09-08T00:51:30.000Z</td>\n",
       "      <td>4</td>\n",
       "      <td>NaN</td>\n",
       "      <td>excellent post i defo feel the difference  one...</td>\n",
       "    </tr>\n",
       "    <tr>\n",
       "      <th>4</th>\n",
       "      <td>e54fbbd42a729af9d04d9a5cc1f9bbfe8081a31c219ecb...</td>\n",
       "      <td>0.100</td>\n",
       "      <td>0.642</td>\n",
       "      <td>0.258</td>\n",
       "      <td>0.6059</td>\n",
       "      <td>2022-09-07T19:06:20.000Z</td>\n",
       "      <td>16</td>\n",
       "      <td>26.0</td>\n",
       "      <td>yes and carbon dioxide does not harm the earth...</td>\n",
       "    </tr>\n",
       "  </tbody>\n",
       "</table>\n",
       "</div>"
      ],
      "text/plain": [
       "                                         profileName    neg    neu    pos  \\\n",
       "0  4dca617d86b3fdce80ba7e81fb16e048c9cd9798cdfd6d...  0.045  0.718  0.237   \n",
       "1  518ab97f2d115ba5b6f03b2fba2ef2b120540c9681288b...  0.000  0.476  0.524   \n",
       "2  d82e8e24eb633fd625b0aef9b3cb625cfb044ceb8483e1...  0.000  0.872  0.128   \n",
       "3  37a509fa0b5177a2233c7e2d0e2b2d6916695fa9fba3f2...  0.157  0.667  0.176   \n",
       "4  e54fbbd42a729af9d04d9a5cc1f9bbfe8081a31c219ecb...  0.100  0.642  0.258   \n",
       "\n",
       "   compound                      date  likesCount  commentsCount  \\\n",
       "0    0.7702  2022-09-07T17:12:32.000Z           2            NaN   \n",
       "1    0.7650  2022-09-08T14:51:13.000Z           0            NaN   \n",
       "2    0.2960  2022-09-07T17:19:41.000Z           1            3.0   \n",
       "3    0.1027  2022-09-08T00:51:30.000Z           4            NaN   \n",
       "4    0.6059  2022-09-07T19:06:20.000Z          16           26.0   \n",
       "\n",
       "                                                text  \n",
       "0  neat comparison i have not heard it before\\n i...  \n",
       "1  an excellent way to visualise the invisible th...  \n",
       "2  does the coghg in the troposphere affect the s...  \n",
       "3  excellent post i defo feel the difference  one...  \n",
       "4  yes and carbon dioxide does not harm the earth...  "
      ]
     },
     "execution_count": 10,
     "metadata": {},
     "output_type": "execute_result"
    }
   ],
   "source": [
    "# sentiment score and metadata are both now in our df \n",
    "vaders.head()"
   ]
  },
  {
   "cell_type": "markdown",
   "id": "988119fd-70b8-4e38-a443-9260e6a14c8a",
   "metadata": {},
   "source": [
    "## Analysis and Visualizations"
   ]
  },
  {
   "cell_type": "markdown",
   "id": "46b3e8a3-9fde-416e-a159-43b4a39b726d",
   "metadata": {},
   "source": [
    "Now that the VADER results for each comment have been stored in our dataframe, it is possible to perform various analyses and visualizations to make sense of the polarity scores."
   ]
  },
  {
   "cell_type": "code",
   "execution_count": 11,
   "id": "ee1c3ab9-cde2-47f8-a931-e3591ab30ffe",
   "metadata": {},
   "outputs": [
    {
     "data": {
      "image/png": "[encoded data removed]",
      "text/plain": [
       "<Figure size 1500x1000 with 4 Axes>"
      ]
     },
     "metadata": {},
     "output_type": "display_data"
    }
   ],
   "source": [
    "fig, axs = plt.subplots(2, 2, figsize=(15, 10))\n",
    "\n",
    "# Histograms\n",
    "sns.histplot(vaders['neg'], bins=30, kde=True, ax=axs[0, 0]).set_title('Negative Score Distribution')\n",
    "sns.histplot(vaders['neu'], bins=30, kde=True, ax=axs[0, 1]).set_title('Neutral Score Distribution')\n",
    "sns.histplot(vaders['pos'], bins=30, kde=True, ax=axs[1, 0]).set_title('Positive Score Distribution')\n",
    "sns.histplot(vaders['compound'], bins=30, kde=True, ax=axs[1, 1]).set_title('Compound Score Distribution')\n",
    "\n",
    "plt.tight_layout()\n",
    "plt.show()"
   ]
  },
  {
   "cell_type": "markdown",
   "id": "6b623b9e-6165-45bb-b8c7-fb1397878ca5",
   "metadata": {},
   "source": [
    "The sentiment scores from the VADER analysis indicate that most comments in the dataset are perceived as neutral or only slightly positive/negative.\n",
    "\n",
    "Strongly positive and strongly negative comments are relatively rare.\n",
    "\n",
    "The compound score distribution, which aggregates the negative, neutral, and positive scores, centers around 0, reinforcing the overall neutral sentiment in the dataset.\n",
    "\n",
    "-------"
   ]
  },
  {
   "cell_type": "markdown",
   "id": "b8209ef4-60e6-43fe-8433-ed1fe3f3026e",
   "metadata": {},
   "source": [
    "For the next part the categorisation of the comments will be shown using a bar chart.\n",
    "\n",
    "According to Vader's documentation, We define three categories based on the compound score:\n",
    "- Positive: Compound score ≥ 0.05\n",
    "- Neutral: -0.05 < Compound score < 0.05\n",
    "- Negative: Compound score ≤ -0.05"
   ]
  },
  {
   "cell_type": "code",
   "execution_count": 13,
   "id": "416174a3-b496-4dd4-8f49-13069d55cadb",
   "metadata": {},
   "outputs": [
    {
     "data": {
      "image/png": "[encoded data removed]",
      "text/plain": [
       "<Figure size 1000x600 with 1 Axes>"
      ]
     },
     "metadata": {},
     "output_type": "display_data"
    }
   ],
   "source": [
    "# Categorize the compound scores\n",
    "vaders['sentiment'] = vaders['compound'].apply(lambda x: 'positive' if x >= 0.05 else ('negative' if x <= -0.05 else 'neutral'))\n",
    "\n",
    "plt.figure(figsize=(10, 6))\n",
    "sns.countplot(x='sentiment', data=vaders, palette='viridis', hue = 'sentiment')\n",
    "plt.title('Sentiment Category Counts')\n",
    "plt.xlabel('Sentiment')\n",
    "plt.ylabel('Count')\n",
    "plt.show()"
   ]
  },
  {
   "cell_type": "markdown",
   "id": "38fa68f6-5862-4ce6-a2eb-c7d84aa6cdf4",
   "metadata": {},
   "source": [
    "The bar chart shows the count of comments categorized as positive, neutral, and negative. \n",
    "\n",
    "Positive comments are the most frequent, closely followed by neutral and then negative comments.\n"
   ]
  },
  {
   "cell_type": "markdown",
   "id": "f9209b68-b9f4-4994-8714-df8863eb6643",
   "metadata": {},
   "source": [
    "# Part 2: Topic Modeling"
   ]
  },
  {
   "cell_type": "markdown",
   "id": "b73eb9f3-0e2a-4855-921a-085c56114947",
   "metadata": {},
   "source": [
    "In the second and final part of the analysis, topic modeling techniques (Latent Dirichlet Allocation and Top2Vec) will be adopted in order to identify the main topics being discussed within the analyzed public opinion regarding NASA's climate-related posts shared on Facebook between 2020 and 2023."
   ]
  },
  {
   "cell_type": "code",
   "execution_count": 11,
   "id": "b6e32529-1b77-4dd8-9b0c-87d6339f1c30",
   "metadata": {},
   "outputs": [
    {
     "data": {
      "text/html": [
       "<div>\n",
       "<style scoped>\n",
       "    .dataframe tbody tr th:only-of-type {\n",
       "        vertical-align: middle;\n",
       "    }\n",
       "\n",
       "    .dataframe tbody tr th {\n",
       "        vertical-align: top;\n",
       "    }\n",
       "\n",
       "    .dataframe thead th {\n",
       "        text-align: right;\n",
       "    }\n",
       "</style>\n",
       "<table border=\"1\" class=\"dataframe\">\n",
       "  <thead>\n",
       "    <tr style=\"text-align: right;\">\n",
       "      <th></th>\n",
       "      <th>date</th>\n",
       "      <th>likesCount</th>\n",
       "      <th>profileName</th>\n",
       "      <th>commentsCount</th>\n",
       "      <th>text</th>\n",
       "    </tr>\n",
       "  </thead>\n",
       "  <tbody>\n",
       "    <tr>\n",
       "      <th>0</th>\n",
       "      <td>2022-09-07T17:12:32.000Z</td>\n",
       "      <td>2</td>\n",
       "      <td>4dca617d86b3fdce80ba7e81fb16e048c9cd9798cdfd6d...</td>\n",
       "      <td>NaN</td>\n",
       "      <td>neat comparison i have not heard it before\\n i...</td>\n",
       "    </tr>\n",
       "    <tr>\n",
       "      <th>1</th>\n",
       "      <td>2022-09-08T14:51:13.000Z</td>\n",
       "      <td>0</td>\n",
       "      <td>518ab97f2d115ba5b6f03b2fba2ef2b120540c9681288b...</td>\n",
       "      <td>NaN</td>\n",
       "      <td>an excellent way to visualise the invisible th...</td>\n",
       "    </tr>\n",
       "    <tr>\n",
       "      <th>2</th>\n",
       "      <td>2022-09-07T17:19:41.000Z</td>\n",
       "      <td>1</td>\n",
       "      <td>d82e8e24eb633fd625b0aef9b3cb625cfb044ceb8483e1...</td>\n",
       "      <td>3.0</td>\n",
       "      <td>does the coghg in the troposphere affect the s...</td>\n",
       "    </tr>\n",
       "    <tr>\n",
       "      <th>3</th>\n",
       "      <td>2022-09-08T00:51:30.000Z</td>\n",
       "      <td>4</td>\n",
       "      <td>37a509fa0b5177a2233c7e2d0e2b2d6916695fa9fba3f2...</td>\n",
       "      <td>NaN</td>\n",
       "      <td>excellent post i defo feel the difference  one...</td>\n",
       "    </tr>\n",
       "    <tr>\n",
       "      <th>4</th>\n",
       "      <td>2022-09-07T19:06:20.000Z</td>\n",
       "      <td>16</td>\n",
       "      <td>e54fbbd42a729af9d04d9a5cc1f9bbfe8081a31c219ecb...</td>\n",
       "      <td>26.0</td>\n",
       "      <td>yes and carbon dioxide does not harm the earth...</td>\n",
       "    </tr>\n",
       "  </tbody>\n",
       "</table>\n",
       "</div>"
      ],
      "text/plain": [
       "                       date  likesCount  \\\n",
       "0  2022-09-07T17:12:32.000Z           2   \n",
       "1  2022-09-08T14:51:13.000Z           0   \n",
       "2  2022-09-07T17:19:41.000Z           1   \n",
       "3  2022-09-08T00:51:30.000Z           4   \n",
       "4  2022-09-07T19:06:20.000Z          16   \n",
       "\n",
       "                                         profileName  commentsCount  \\\n",
       "0  4dca617d86b3fdce80ba7e81fb16e048c9cd9798cdfd6d...            NaN   \n",
       "1  518ab97f2d115ba5b6f03b2fba2ef2b120540c9681288b...            NaN   \n",
       "2  d82e8e24eb633fd625b0aef9b3cb625cfb044ceb8483e1...            3.0   \n",
       "3  37a509fa0b5177a2233c7e2d0e2b2d6916695fa9fba3f2...            NaN   \n",
       "4  e54fbbd42a729af9d04d9a5cc1f9bbfe8081a31c219ecb...           26.0   \n",
       "\n",
       "                                                text  \n",
       "0  neat comparison i have not heard it before\\n i...  \n",
       "1  an excellent way to visualise the invisible th...  \n",
       "2  does the coghg in the troposphere affect the s...  \n",
       "3  excellent post i defo feel the difference  one...  \n",
       "4  yes and carbon dioxide does not harm the earth...  "
      ]
     },
     "execution_count": 11,
     "metadata": {},
     "output_type": "execute_result"
    }
   ],
   "source": [
    "df.head()"
   ]
  },
  {
   "cell_type": "code",
   "execution_count": 12,
   "id": "241a924a-b1a7-49c7-8683-04e9d76c4fd5",
   "metadata": {
    "scrolled": true
   },
   "outputs": [],
   "source": [
    "# preprocess the data  \n",
    "\n",
    "# tokenize words\n",
    "df[\"text\"] = df[\"text\"].apply(nltk.word_tokenize)"
   ]
  },
  {
   "cell_type": "code",
   "execution_count": 13,
   "id": "928e4b6d-d440-41e8-a566-ccec2403175b",
   "metadata": {},
   "outputs": [
    {
     "data": {
      "text/html": [
       "<div>\n",
       "<style scoped>\n",
       "    .dataframe tbody tr th:only-of-type {\n",
       "        vertical-align: middle;\n",
       "    }\n",
       "\n",
       "    .dataframe tbody tr th {\n",
       "        vertical-align: top;\n",
       "    }\n",
       "\n",
       "    .dataframe thead th {\n",
       "        text-align: right;\n",
       "    }\n",
       "</style>\n",
       "<table border=\"1\" class=\"dataframe\">\n",
       "  <thead>\n",
       "    <tr style=\"text-align: right;\">\n",
       "      <th></th>\n",
       "      <th>date</th>\n",
       "      <th>likesCount</th>\n",
       "      <th>profileName</th>\n",
       "      <th>commentsCount</th>\n",
       "      <th>text</th>\n",
       "    </tr>\n",
       "  </thead>\n",
       "  <tbody>\n",
       "    <tr>\n",
       "      <th>0</th>\n",
       "      <td>2022-09-07T17:12:32.000Z</td>\n",
       "      <td>2</td>\n",
       "      <td>4dca617d86b3fdce80ba7e81fb16e048c9cd9798cdfd6d...</td>\n",
       "      <td>NaN</td>\n",
       "      <td>[neat, comparison, heard, would, say, co, like...</td>\n",
       "    </tr>\n",
       "    <tr>\n",
       "      <th>1</th>\n",
       "      <td>2022-09-08T14:51:13.000Z</td>\n",
       "      <td>0</td>\n",
       "      <td>518ab97f2d115ba5b6f03b2fba2ef2b120540c9681288b...</td>\n",
       "      <td>NaN</td>\n",
       "      <td>[excellent, way, visualise, invisible, thanks]</td>\n",
       "    </tr>\n",
       "    <tr>\n",
       "      <th>2</th>\n",
       "      <td>2022-09-07T17:19:41.000Z</td>\n",
       "      <td>1</td>\n",
       "      <td>d82e8e24eb633fd625b0aef9b3cb625cfb044ceb8483e1...</td>\n",
       "      <td>3.0</td>\n",
       "      <td>[coghg, troposphere, affect, stratosphere, war...</td>\n",
       "    </tr>\n",
       "    <tr>\n",
       "      <th>3</th>\n",
       "      <td>2022-09-08T00:51:30.000Z</td>\n",
       "      <td>4</td>\n",
       "      <td>37a509fa0b5177a2233c7e2d0e2b2d6916695fa9fba3f2...</td>\n",
       "      <td>NaN</td>\n",
       "      <td>[excellent, post, defo, feel, difference, one,...</td>\n",
       "    </tr>\n",
       "    <tr>\n",
       "      <th>4</th>\n",
       "      <td>2022-09-07T19:06:20.000Z</td>\n",
       "      <td>16</td>\n",
       "      <td>e54fbbd42a729af9d04d9a5cc1f9bbfe8081a31c219ecb...</td>\n",
       "      <td>26.0</td>\n",
       "      <td>[yes, carbon, dioxide, harm, earth, like, peop...</td>\n",
       "    </tr>\n",
       "    <tr>\n",
       "      <th>...</th>\n",
       "      <td>...</td>\n",
       "      <td>...</td>\n",
       "      <td>...</td>\n",
       "      <td>...</td>\n",
       "      <td>...</td>\n",
       "    </tr>\n",
       "    <tr>\n",
       "      <th>517</th>\n",
       "      <td>2022-12-22T17:21:37.000Z</td>\n",
       "      <td>0</td>\n",
       "      <td>9e17b1a6422032d47472f0216c73aafda7587e302eed5e...</td>\n",
       "      <td>NaN</td>\n",
       "      <td>[one, hope, peak]</td>\n",
       "    </tr>\n",
       "    <tr>\n",
       "      <th>518</th>\n",
       "      <td>2022-12-22T17:19:51.000Z</td>\n",
       "      <td>1</td>\n",
       "      <td>48e55d898603a136aefc44771f248bffd67242583a462a...</td>\n",
       "      <td>5.0</td>\n",
       "      <td>[error, margin, temperature, estimation, year,...</td>\n",
       "    </tr>\n",
       "    <tr>\n",
       "      <th>519</th>\n",
       "      <td>2022-12-22T17:12:57.000Z</td>\n",
       "      <td>3</td>\n",
       "      <td>ca5d2611814cf8c9844ed06d9916d876d2dba94dac5ff2...</td>\n",
       "      <td>NaN</td>\n",
       "      <td>[volenteerly, help, reducing, globall, warming]</td>\n",
       "    </tr>\n",
       "    <tr>\n",
       "      <th>520</th>\n",
       "      <td>2022-12-22T17:01:12.000Z</td>\n",
       "      <td>1</td>\n",
       "      <td>a87c8aea74c9b97002b368d6143ce9c2809dcaec3103fb...</td>\n",
       "      <td>NaN</td>\n",
       "      <td>[sergio, yepes]</td>\n",
       "    </tr>\n",
       "    <tr>\n",
       "      <th>521</th>\n",
       "      <td>2022-12-22T17:00:08.000Z</td>\n",
       "      <td>12</td>\n",
       "      <td>cc70f6c9dcc2637b1c5fd90046834612627c752b828cb4...</td>\n",
       "      <td>1.0</td>\n",
       "      <td>[experiencing, severe, abnormal, weather, patt...</td>\n",
       "    </tr>\n",
       "  </tbody>\n",
       "</table>\n",
       "<p>522 rows × 5 columns</p>\n",
       "</div>"
      ],
      "text/plain": [
       "                         date  likesCount  \\\n",
       "0    2022-09-07T17:12:32.000Z           2   \n",
       "1    2022-09-08T14:51:13.000Z           0   \n",
       "2    2022-09-07T17:19:41.000Z           1   \n",
       "3    2022-09-08T00:51:30.000Z           4   \n",
       "4    2022-09-07T19:06:20.000Z          16   \n",
       "..                        ...         ...   \n",
       "517  2022-12-22T17:21:37.000Z           0   \n",
       "518  2022-12-22T17:19:51.000Z           1   \n",
       "519  2022-12-22T17:12:57.000Z           3   \n",
       "520  2022-12-22T17:01:12.000Z           1   \n",
       "521  2022-12-22T17:00:08.000Z          12   \n",
       "\n",
       "                                           profileName  commentsCount  \\\n",
       "0    4dca617d86b3fdce80ba7e81fb16e048c9cd9798cdfd6d...            NaN   \n",
       "1    518ab97f2d115ba5b6f03b2fba2ef2b120540c9681288b...            NaN   \n",
       "2    d82e8e24eb633fd625b0aef9b3cb625cfb044ceb8483e1...            3.0   \n",
       "3    37a509fa0b5177a2233c7e2d0e2b2d6916695fa9fba3f2...            NaN   \n",
       "4    e54fbbd42a729af9d04d9a5cc1f9bbfe8081a31c219ecb...           26.0   \n",
       "..                                                 ...            ...   \n",
       "517  9e17b1a6422032d47472f0216c73aafda7587e302eed5e...            NaN   \n",
       "518  48e55d898603a136aefc44771f248bffd67242583a462a...            5.0   \n",
       "519  ca5d2611814cf8c9844ed06d9916d876d2dba94dac5ff2...            NaN   \n",
       "520  a87c8aea74c9b97002b368d6143ce9c2809dcaec3103fb...            NaN   \n",
       "521  cc70f6c9dcc2637b1c5fd90046834612627c752b828cb4...            1.0   \n",
       "\n",
       "                                                  text  \n",
       "0    [neat, comparison, heard, would, say, co, like...  \n",
       "1       [excellent, way, visualise, invisible, thanks]  \n",
       "2    [coghg, troposphere, affect, stratosphere, war...  \n",
       "3    [excellent, post, defo, feel, difference, one,...  \n",
       "4    [yes, carbon, dioxide, harm, earth, like, peop...  \n",
       "..                                                 ...  \n",
       "517                                  [one, hope, peak]  \n",
       "518  [error, margin, temperature, estimation, year,...  \n",
       "519    [volenteerly, help, reducing, globall, warming]  \n",
       "520                                    [sergio, yepes]  \n",
       "521  [experiencing, severe, abnormal, weather, patt...  \n",
       "\n",
       "[522 rows x 5 columns]"
      ]
     },
     "execution_count": 13,
     "metadata": {},
     "output_type": "execute_result"
    }
   ],
   "source": [
    "stop_words = set(nltk.corpus.stopwords.words(\"english\"))\n",
    "\n",
    "# apply the lemmatize method, which reduces the word to its root form\n",
    "lemma = WordNetLemmatizer()\n",
    "\n",
    "# define a clean up function \n",
    "def clean_up(text_list): \n",
    "    \"\"\"\n",
    "    Takes a list as an input. Words in the list are excluded of stop words and non alpha characters. Word is lemmatized. \n",
    "    New word list is returned with word exclusions\n",
    "    \"\"\"\n",
    "    word_list = []\n",
    "    for word in text_list:\n",
    "        word = word.lower()\n",
    "        if word not in stop_words: \n",
    "            if word.isalpha():\n",
    "                word = lemma.lemmatize(word)\n",
    "                word_list.append(word)\n",
    "    return word_list\n",
    "\n",
    "# clean\n",
    "df[\"text\"] = df[\"text\"].apply(clean_up)\n",
    "df.head()"
   ]
  },
  {
   "cell_type": "markdown",
   "id": "32461230-ae68-4c47-8356-cabef296f1d3",
   "metadata": {},
   "source": [
    "## LDA algorithm Topic Modeling Analysis "
   ]
  },
  {
   "cell_type": "markdown",
   "id": "7c3aa86e-7354-4317-b312-1230497628fd",
   "metadata": {},
   "source": [
    "In the next step the data is transformed in a format suitable for topic modeling, particularly for the Latent Dirichlet Allocation (LDA) algorithm used later in the notebook. \n",
    "\n",
    "\n",
    "Firstly, a dictionary is created mapping each unique term across the text to a unique integer. Then the doc2bow method is applied to transform the dictionary into a matrix \n",
    "\n",
    "Example to understand conversion to matrix: \n",
    "\n",
    "dictionary : {\"climate\": 0, \"sun\": 1, \"co2\": 3} and climate occurs twice while the other once --> [(0, 2), (1, 1), (2, 1)])\n",
    "\n"
   ]
  },
  {
   "cell_type": "code",
   "execution_count": 14,
   "id": "fa2b842d-5e7f-4560-a65f-57166d695f88",
   "metadata": {},
   "outputs": [],
   "source": [
    "text_list = list(df[\"text\"])\n",
    "\n",
    "# creating dictionary, where every unique word is assigned an index. \n",
    "dictionary = corpora.Dictionary(text_list)\n",
    "\n",
    "# converting list of text to matrix \n",
    "doc_term_matrix = [dictionary.doc2bow(doc) for doc in text_list]"
   ]
  },
  {
   "cell_type": "markdown",
   "id": "e4005b00-6d82-42b8-86e8-03c39f35183b",
   "metadata": {},
   "source": [
    "An LDA model object is created and trained in the next step. \n",
    "The model is instructed to find 3 topics in the data, mapping terms to topics across 50 passes.\n",
    "\n"
   ]
  },
  {
   "cell_type": "code",
   "execution_count": 28,
   "id": "1e52542b-50b5-4284-8e62-f22247f755f6",
   "metadata": {},
   "outputs": [],
   "source": [
    "# object for LDA model and run \n",
    "Lda = gensim.models.ldamodel.LdaModel\n",
    "\n",
    "ldamodel = Lda(doc_term_matrix, num_topics=3, id2word=dictionary, passes=50) # decided to identify the 3 main topics"
   ]
  },
  {
   "cell_type": "code",
   "execution_count": 26,
   "id": "cb633838-5f4c-46d2-88b4-5c0cfc85b5bb",
   "metadata": {},
   "outputs": [
    {
     "name": "stdout",
     "output_type": "stream",
     "text": [
      "(0, '0.012*\"climate\" + 0.010*\"change\" + 0.009*\"year\"')\n",
      "(1, '0.015*\"climate\" + 0.014*\"change\" + 0.013*\"earth\"')\n",
      "(2, '0.011*\"year\" + 0.011*\"carbon\" + 0.010*\"level\"')\n"
     ]
    }
   ],
   "source": [
    "# print results\n",
    "topics = ldamodel.print_topics(num_topics=3, num_words=3)\n",
    "for topic in topics:\n",
    "    print(topic)"
   ]
  },
  {
   "cell_type": "code",
   "execution_count": 27,
   "id": "77134ec1-f2f0-446d-b977-96bac8b0fd1c",
   "metadata": {},
   "outputs": [
    {
     "name": "stdout",
     "output_type": "stream",
     "text": [
      "(0, '0.012*\"climate\" + 0.010*\"change\" + 0.009*\"year\" + 0.007*\"temperature\" + 0.007*\"planet\"')\n",
      "(1, '0.015*\"climate\" + 0.014*\"change\" + 0.013*\"earth\" + 0.008*\"co\" + 0.008*\"global\"')\n",
      "(2, '0.011*\"year\" + 0.011*\"carbon\" + 0.010*\"level\" + 0.008*\"water\" + 0.008*\"dioxide\"')\n"
     ]
    }
   ],
   "source": [
    "# print results with more words per topic \n",
    "topics = ldamodel.print_topics(num_topics=3, num_words=5)\n",
    "for topic in topics:\n",
    "    print(topic)"
   ]
  },
  {
   "cell_type": "markdown",
   "id": "4ebf9bfd-df2d-43f9-80cf-93b4f0726c31",
   "metadata": {},
   "source": [
    "The results provided by the LDA algorithm needs now to be interpreted. \n",
    "It was decided to identify 3 main topics within the comments text.\n",
    "\n",
    "The LDA algorithm identifies these three topics and can print a list of words along with their relative importance within each topic. By examining the words and their associated scores, we can deduce the theme of each topic and classify them accordingly.\n",
    "\n",
    "\n",
    "- *Topic 0: Long-Term Planet Climate Change*: this topic focuses on long term climate change focusing on changes in temperature around the planet. Words \"temperature\", \"planet\" and \"year\" suggests global perspective on climate change in the long term\n",
    "  \n",
    "- *Topic 1: Global Climate Change Implications*: this topic focuses on climate change implications across the planet. Words \"earth\", \"co\" and \"global\" suggest a discussion about climate change implications such as co emissions on a global scale.\n",
    "  \n",
    "- *Topic 2: Environmental Impact of Carbon Emissions*: this topic focuses on carbon emissions implications on the environment. Words \"carbon\", \"level\", \"dioxide\" and \"year\" suggests discussion about how carbon levels, particularly carbon dioxide, have changed over the years. \n",
    "\n",
    "\n"
   ]
  },
  {
   "cell_type": "markdown",
   "id": "60b48011-8168-4301-b298-0fbaf7ff7b82",
   "metadata": {},
   "source": [
    "## top2vec Topic Modeling Analysis "
   ]
  },
  {
   "cell_type": "markdown",
   "id": "f55d54f1-4fb8-4c46-a7ce-fd5d9a4d86bf",
   "metadata": {},
   "source": [
    "In order to learn and experience more with topic modeling another Topic Modeling Analysis is now performed with the top2vec library. "
   ]
  },
  {
   "cell_type": "code",
   "execution_count": 30,
   "id": "64589ef4-c870-484d-8c7c-d3cacbd43990",
   "metadata": {},
   "outputs": [],
   "source": [
    "# import\n",
    "from top2vec import Top2Vec"
   ]
  },
  {
   "cell_type": "code",
   "execution_count": 31,
   "id": "b1d06757-fd34-4fc6-a309-18e6ae382d2a",
   "metadata": {},
   "outputs": [],
   "source": [
    "# join back words into a string for top2vec analysis \n",
    "\n",
    "text_list_top2vec = []\n",
    "for list in text_list: \n",
    "    joined = \" \".join(list)\n",
    "    text_list_top2vec.append(joined)  "
   ]
  },
  {
   "cell_type": "code",
   "execution_count": 32,
   "id": "e3aafd2a-2de4-41bf-9cf5-e062af5258ea",
   "metadata": {},
   "outputs": [
    {
     "name": "stderr",
     "output_type": "stream",
     "text": [
      "2024-05-28 16:26:01,001 - top2vec - INFO - Pre-processing documents for training\n",
      "INFO:top2vec:Pre-processing documents for training\n",
      "/Users/albertoscinetti/anaconda3/envs/SP/lib/python3.11/site-packages/sklearn/feature_extraction/text.py:525: UserWarning: The parameter 'token_pattern' will not be used since 'tokenizer' is not None'\n",
      "  warnings.warn(\n",
      "2024-05-28 16:26:01,106 - top2vec - INFO - Downloading universal-sentence-encoder-multilingual model\n",
      "INFO:top2vec:Downloading universal-sentence-encoder-multilingual model\n",
      "2024-05-28 16:26:04,563 - top2vec - INFO - Creating joint document/word embedding\n",
      "INFO:top2vec:Creating joint document/word embedding\n",
      "2024-05-28 16:26:06,381 - top2vec - INFO - Creating lower dimension embedding of documents\n",
      "INFO:top2vec:Creating lower dimension embedding of documents\n",
      "2024-05-28 16:26:09,251 - top2vec - INFO - Finding dense areas of documents\n",
      "INFO:top2vec:Finding dense areas of documents\n",
      "2024-05-28 16:26:09,297 - top2vec - INFO - Finding topics\n",
      "INFO:top2vec:Finding topics\n"
     ]
    }
   ],
   "source": [
    "# train the Top2Vec model\n",
    "model = Top2Vec(text_list_top2vec, speed=\"learn\", workers=4)"
   ]
  },
  {
   "cell_type": "code",
   "execution_count": 33,
   "id": "8ace31f8-6c08-4fb2-998f-cb1eb5063e77",
   "metadata": {},
   "outputs": [
    {
     "name": "stdout",
     "output_type": "stream",
     "text": [
      "Number of topics: 2\n"
     ]
    }
   ],
   "source": [
    "# number of topics\n",
    "num_topics = model.get_num_topics()\n",
    "print(f\"Number of topics: {num_topics}\")"
   ]
  },
  {
   "cell_type": "code",
   "execution_count": 34,
   "id": "cb878e1e-8306-4f3e-81e7-5c1666e29317",
   "metadata": {},
   "outputs": [],
   "source": [
    "# topics \n",
    "topics, topic_scores, topic_nums = model.get_topics()"
   ]
  },
  {
   "cell_type": "code",
   "execution_count": 35,
   "id": "24917870-3f48-4129-9c29-a8e5fb000a14",
   "metadata": {},
   "outputs": [
    {
     "name": "stdout",
     "output_type": "stream",
     "text": [
      "Topic 0:\n",
      "Words: ['warming' 'climate' 'atmosphere' 'earth' 'temperature' 'global' 'carbon'\n",
      " 'change' 'year' 'people' 'co']\n",
      "Scores: [0.56796855 0.5087385  0.44839793 0.44468084 0.4204553  0.40701264\n",
      " 0.3403754  0.31667215 0.30160028 0.2742209  0.2593397 ]\n",
      "\n",
      "\n",
      "Topic 1:\n",
      "Words: ['co' 'year' 'change' 'people' 'temperature' 'earth' 'warming' 'global'\n",
      " 'climate' 'carbon' 'atmosphere']\n",
      "Scores: [0.6784692  0.48676878 0.47926876 0.46219537 0.4504985  0.43652785\n",
      " 0.42561644 0.4227704  0.4206724  0.37788916 0.37198243]\n",
      "\n",
      "\n"
     ]
    }
   ],
   "source": [
    "# print topics \n",
    "for topic_num in range(num_topics):\n",
    "    print(f\"Topic {topic_num}:\")\n",
    "    print(f\"Words: {topics[topic_num]}\")\n",
    "    print(f\"Scores: {topic_scores[topic_num]}\")\n",
    "    print(\"\\n\")"
   ]
  },
  {
   "cell_type": "markdown",
   "id": "84971a34-1c26-46d3-8cea-69a77a3eed83",
   "metadata": {},
   "source": [
    "Results of top2vec algorithm needs now to be intepreted. \n",
    "\n",
    "The top2vec algorithm identifies automatically the number of topics based on the data; in this case 2 main topics were found. \n",
    "\n",
    "- *Topic 0: Climate Change Global Discussion*: this topic seems to focus on an overall discussion about climate change and how global warming affect the Earth's atmosphere and temperature. \n",
    "  \n",
    "- *Topic 1: Climate change Implications and Impact of Carbon Emissions*: this topic and its words and scoress seems very similar to the first one identified. However, given the high score of \"co\" (carbon monoxide) we can deduce that it focuses on Carbon emissions implications\n",
    "  \n",
    "Overall, the two topic identified seemed very similar given the word and scores similarity. A more extensive set of texts to train the model would be needed. \n"
   ]
  },
  {
   "cell_type": "markdown",
   "id": "841f9188-d4de-4dc0-bbb3-d01f1ae5ae23",
   "metadata": {},
   "source": [
    "# Conclusions"
   ]
  },
  {
   "cell_type": "markdown",
   "id": "85c06079-a85b-463e-bb75-d5f7e0be8f1e",
   "metadata": {},
   "source": [
    "This notebook had as it scope to find an answer to the followings: \n",
    "\n",
    "*Research Question:* \n",
    "How is the public opinion oriented towards climate related posts share by NASA on Facebook?\n",
    "\n",
    "*Sub Questions:* \n",
    "- What is the  public sentiment towards NASA's climate-related posts on Facebook? \n",
    "- What are the main topics being discussed within the analysed public?\n",
    "----\n",
    "\n",
    "Given the conducted analysis the following conclusions can be drawn: \n",
    "\n",
    "- The sentiment scores from the conducted VADER sentiment analysis indicate that most comments in the dataset are perceived as neutral or only slightly positive/negative. The comments with negative or positive polarity score indicators are only slightly impactful, contributing to a generally more neutral sentiment (strongly positive and strongly negative comments are relatively rare). Overall, the public sentiment towards NASA's climate-related posts on Facebook can be considered neutral\n",
    "\n",
    "\n",
    "\n",
    "\n",
    "- The main topics identified for analysis by comparing and compiling the results were two. The first topic concerns general discussions about global climate change, focusing on temperature changes around the planet and their impact on global warming. The second one focuses on the implications of climate change, mainly concentrating on carbon emission levels and their effects.\n",
    "\n",
    "- The main topics discussed within the analyzed comments are highly similar to each other and only slightly vary from each other, given the limitations of the analyzed data. A more extensive set of comments would be needed to closely identify topics within the scrutinised comment sections. This corpus of texts might not have been the best for conducting a topic modeling analysis given its limitations; however, it was still very insightful to learn about the algorithms and their processes.\n",
    "\n",
    "  "
   ]
  }
 ],
 "metadata": {
  "kernelspec": {
   "display_name": "Python 3 (ipykernel)",
   "language": "python",
   "name": "python3"
  },
  "language_info": {
   "codemirror_mode": {
    "name": "ipython",
    "version": 3
   },
   "file_extension": ".py",
   "mimetype": "text/x-python",
   "name": "python",
   "nbconvert_exporter": "python",
   "pygments_lexer": "ipython3",
   "version": "3.11.7"
  }
 },
 "nbformat": 4,
 "nbformat_minor": 5
}
